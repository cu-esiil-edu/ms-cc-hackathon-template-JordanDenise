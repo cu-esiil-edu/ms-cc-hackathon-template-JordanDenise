{
 "cells": [
  {
   "cell_type": "code",
   "execution_count": 6,
   "id": "4733b2f8",
   "metadata": {},
   "outputs": [],
   "source": [
    "# Ask Quesstions Travel\n",
    "vehicle = input(\"What kind of vehicle do you typically use?(e.g Car, Suv, Truck):\" ).strip().lower()\n",
    "MPG = int(input(\"How many miles do you typically travel per week?\"))\n",
    "\n",
    "# Ask Questions Electricity\n",
    "renewable = input(\"Is the electricity in your home renewable?(e.g Yes, No ,Some):\")\n",
    "lights = input(\"Do you often leave lights, TVs, or electronics on when not in use? e.g Often, Sometimes, Not Often):\")\n",
    "kwh = int(input(\"How many kilowatt-hours (kWh) of electricity does your home use per month? (Enter 900 if unsure): \"))\n",
    "\n",
    "# Ask Questions Diet\n",
    "meat_per_week = input(\"How many times a week do you eat meat?\")\n",
    "locally_grown = input(\"How often do you eat locally grown food? e.g Often, Sometimes, Not Often :\")\n",
    "save_food = input(\"How often do you throw away food? e.g Often, Sometimes, Not often :\")\n",
    "\n",
    "\n",
    "# Ask Questions Shopping\n",
    "quanity = input('How often do you purchase new clothes/shoes/accessories?(Every Week, Every Month, Every Few Months, Every Year)')\n",
    "thrift = input(\"How Likely are you to Thrift Shop/Wear Second Hand Clothing?(e.g Often, Sometimes, Never):\")\n",
    "\n",
    "# Ask Questions Waste\n",
    "plastic = input(\"How often do you use nonreusable plastic products? Ex: forks, plates, cups e.g Often, Sometimes, Not Often:\")\n",
    "recycle = input(\"How many times a week do you recycle?\")\n",
    "compost = input(\"Do you compost? e.g. Yes, Sometimes, No:\")\n",
    "\n"
   ]
  }
 ],
 "metadata": {
  "kernelspec": {
   "display_name": "base",
   "language": "python",
   "name": "python3"
  },
  "language_info": {
   "codemirror_mode": {
    "name": "ipython",
    "version": 3
   },
   "file_extension": ".py",
   "mimetype": "text/x-python",
   "name": "python",
   "nbconvert_exporter": "python",
   "pygments_lexer": "ipython3",
   "version": "3.11.6"
  }
 },
 "nbformat": 4,
 "nbformat_minor": 5
}
