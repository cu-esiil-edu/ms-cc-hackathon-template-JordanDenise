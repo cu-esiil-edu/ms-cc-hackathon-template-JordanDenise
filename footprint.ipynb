{
 "cells": [
  {
   "cell_type": "code",
   "execution_count": null,
   "id": "4733b2f8",
   "metadata": {},
   "outputs": [],
   "source": [
    "# Ask Quesstions Travel\n",
    "vehicle = input(\"What kind of vehicle do you typically use?(e.g Car, Suv, Truck):\" ).strip().lower()\n",
    "MPG = int(input(\"How many miles do you typically travel per week?\"))\n",
    "\n",
    "# Ask Questions Electricity\n",
    "renewable = input(\"Is the electricity in your home renewable?(e.g Yes, No ,Some):\")\n",
    "lights = input(\"Do you often leave lights, TVs, or electronics on when not in use? e.g Often, Sometimes, Not Often):\")"
   ]
  }
 ],
 "metadata": {
  "kernelspec": {
   "display_name": "base",
   "language": "python",
   "name": "python3"
  },
  "language_info": {
   "codemirror_mode": {
    "name": "ipython",
    "version": 3
   },
   "file_extension": ".py",
   "mimetype": "text/x-python",
   "name": "python",
   "nbconvert_exporter": "python",
   "pygments_lexer": "ipython3",
   "version": "3.11.6"
  }
 },
 "nbformat": 4,
 "nbformat_minor": 5
}
